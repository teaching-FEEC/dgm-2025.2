{
 "cells": [
  {
   "cell_type": "code",
   "execution_count": 1,
   "metadata": {},
   "outputs": [
    {
     "name": "stdout",
     "output_type": "stream",
     "text": [
      "F=24, L= 8 -> 47,736 parameters\n",
      "F=40, L= 6 -> 90,888 parameters\n",
      "F=40, L= 7 -> 105,368 parameters\n",
      "F=64, L= 8 -> 288,496 parameters\n"
     ]
    }
   ],
   "source": [
    "def compact_param_count(num_feat: int, num_conv: int, upscale: int = 4) -> int:\n",
    "    \"\"\"\n",
    "    Compute total number of parameters in the 'compact' network.\n",
    "\n",
    "    Args:\n",
    "        num_feat (int): number of feature channels (F)\n",
    "        num_conv (int): number of conv layers in the body (L)\n",
    "        upscale (int): upscaling factor (default = 4)\n",
    "    Returns:\n",
    "        int: total number of parameters\n",
    "    \"\"\"\n",
    "    F = num_feat\n",
    "    L = num_conv\n",
    "    C_in, C_out = 3, 3\n",
    "    out_hr = C_out * (upscale ** 2)\n",
    "\n",
    "    # First conv: 3 -> F\n",
    "    P1 = (C_in * F * 3 * 3) + F\n",
    "\n",
    "    # Body convs: (L-1) layers of F -> F\n",
    "    Pbody = (L - 1) * ((F * F * 3 * 3) + F)\n",
    "\n",
    "    # Last conv: F -> out_hr\n",
    "    Plast = (F * out_hr * 3 * 3) + out_hr\n",
    "\n",
    "    # PReLU activations (L of them, each with F params)\n",
    "    Pprelu = L * F\n",
    "\n",
    "    total = P1 + Pbody + Plast + Pprelu\n",
    "    return total\n",
    "\n",
    "\n",
    "# Example usage:\n",
    "for (F, L) in [(24, 8), (40, 6), (40, 7), (64, 8)]:\n",
    "    print(f\"F={F:2d}, L={L:2d} -> {compact_param_count(F, L):,} parameters\")"
   ]
  },
  {
   "cell_type": "code",
   "execution_count": 2,
   "metadata": {},
   "outputs": [
    {
     "data": {
      "text/plain": [
       "47736"
      ]
     },
     "execution_count": 2,
     "metadata": {},
     "output_type": "execute_result"
    }
   ],
   "source": [
    "compact_param_count(24,8)"
   ]
  },
  {
   "cell_type": "code",
   "execution_count": 20,
   "metadata": {},
   "outputs": [
    {
     "data": {
      "text/plain": [
       "95998"
      ]
     },
     "execution_count": 20,
     "metadata": {},
     "output_type": "execute_result"
    }
   ],
   "source": [
    "compact_param_count(38,7)"
   ]
  },
  {
   "cell_type": "code",
   "execution_count": 22,
   "metadata": {},
   "outputs": [
    {
     "data": {
      "text/plain": [
       "93848"
      ]
     },
     "execution_count": 22,
     "metadata": {},
     "output_type": "execute_result"
    }
   ],
   "source": [
    "compact_param_count(35,8)"
   ]
  },
  {
   "cell_type": "code",
   "execution_count": 2,
   "metadata": {},
   "outputs": [
    {
     "data": {
      "text/plain": [
       "89026"
      ]
     },
     "execution_count": 2,
     "metadata": {},
     "output_type": "execute_result"
    }
   ],
   "source": [
    "compact_param_count(34,8)"
   ]
  }
 ],
 "metadata": {
  "kernelspec": {
   "display_name": ".venv",
   "language": "python",
   "name": "python3"
  },
  "language_info": {
   "codemirror_mode": {
    "name": "ipython",
    "version": 3
   },
   "file_extension": ".py",
   "mimetype": "text/x-python",
   "name": "python",
   "nbconvert_exporter": "python",
   "pygments_lexer": "ipython3",
   "version": "3.11.9"
  },
  "orig_nbformat": 4
 },
 "nbformat": 4,
 "nbformat_minor": 2
}
