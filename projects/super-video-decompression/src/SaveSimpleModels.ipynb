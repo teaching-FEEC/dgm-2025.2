{
 "cells": [
  {
   "cell_type": "code",
   "execution_count": 1,
   "metadata": {},
   "outputs": [],
   "source": [
    "import torch\n",
    "import torch.nn as nn\n",
    "from SanityCheckModel import baseline_arch\n",
    "\n",
    "model = baseline_arch(upscale=1)\n",
    "\n",
    "model.eval()\n",
    "\n",
    "torch.save(model.state_dict(), \"./baseline_1x_weights.pth\")\n",
    "\n",
    "model = baseline_arch(upscale=2)\n",
    "\n",
    "model.eval()\n",
    "\n",
    "torch.save(model.state_dict(), \"./baseline_2x_weights.pth\")\n",
    "\n"
   ]
  }
 ],
 "metadata": {
  "kernelspec": {
   "display_name": ".venv",
   "language": "python",
   "name": "python3"
  },
  "language_info": {
   "codemirror_mode": {
    "name": "ipython",
    "version": 3
   },
   "file_extension": ".py",
   "mimetype": "text/x-python",
   "name": "python",
   "nbconvert_exporter": "python",
   "pygments_lexer": "ipython3",
   "version": "3.11.9"
  },
  "orig_nbformat": 4
 },
 "nbformat": 4,
 "nbformat_minor": 2
}
