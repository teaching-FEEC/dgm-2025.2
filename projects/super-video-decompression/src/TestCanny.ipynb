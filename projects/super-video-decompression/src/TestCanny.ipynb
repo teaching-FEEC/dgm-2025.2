{
 "cells": [
  {
   "cell_type": "code",
   "execution_count": 2,
   "metadata": {},
   "outputs": [
    {
     "name": "stdout",
     "output_type": "stream",
     "text": [
      "Dice Loss: tensor(1.0019)\n",
      "Masked Dice Loss: tensor(1.0437)\n",
      "Image Loss: tensor(0.9888)\n",
      "Masked Image Loss: tensor(1.2223)\n",
      "Final Edge Loss: tensor(2.2241)\n"
     ]
    }
   ],
   "source": [
    "from CannyEdgeDetectorModel import DifferentiableCanny\n",
    "from LossCannyEdge import CannyEdgeLoss"
   ]
  },
  {
   "cell_type": "code",
   "execution_count": 3,
   "metadata": {},
   "outputs": [
    {
     "data": {
      "application/vnd.jupyter.widget-view+json": {
       "model_id": "e33d7b0a31f3499980aeb4c3824d69ca",
       "version_major": 2,
       "version_minor": 0
      },
      "text/plain": [
       "interactive(children=(FloatSlider(value=0.1, description='low_threshold', max=1.0, step=0.01), FloatSlider(val…"
      ]
     },
     "metadata": {},
     "output_type": "display_data"
    },
    {
     "data": {
      "text/plain": [
       "<function __main__.visualize_edges(low_threshold=0.1, high_threshold=0.3, mask_threshold=0.7, sharpness=3)>"
      ]
     },
     "execution_count": 3,
     "metadata": {},
     "output_type": "execute_result"
    }
   ],
   "source": [
    "import torch\n",
    "import matplotlib.pyplot as plt\n",
    "from ipywidgets import interact, FloatSlider\n",
    "from PIL import Image\n",
    "import torchvision.transforms as T\n",
    "\n",
    "# --- Image loader ---\n",
    "def load_image(path, size):\n",
    "    img = Image.open(path).convert(\"RGB\")\n",
    "    transform = T.Compose([\n",
    "        T.Resize(size),\n",
    "        T.ToTensor(),  # [C,H,W] float32 in [0,1]\n",
    "    ])\n",
    "    return transform(img).unsqueeze(0)  # [1,3,H,W]\n",
    "\n",
    "# --- Interactive visualization ---\n",
    "def visualize_edges(low_threshold=0.1, high_threshold=0.3, mask_threshold=0.7, sharpness=3):\n",
    "    # Load your images\n",
    "    img1 = load_image('./frame_00256l.webp', size=(202,480))\n",
    "    img2 = load_image('./frame_00256h.webp', size=(202,480))\n",
    "    \n",
    "    # Instantiate Canny\n",
    "    canny = DifferentiableCanny(\n",
    "        kernel_size=5,\n",
    "        sigma=1.0,\n",
    "        low_threshold=low_threshold,\n",
    "        high_threshold=high_threshold\n",
    "    )\n",
    "\n",
    "    # Compute edges\n",
    "    edges1 = canny(img1)\n",
    "    edges2 = canny(img2)\n",
    "    \n",
    "    loss_fn = CannyEdgeLoss(loss_type=\"l1\",sharpness=sharpness)\n",
    "\n",
    "    # Forward pass\n",
    "    loss, mask, diceLoss, imgLoss = loss_fn(img1, img2)\n",
    "    \n",
    "\n",
    "    # Mask (OR between both edge maps, thresholded)\n",
    "    #mask = ((edges1 > mask_threshold) | (edges2 > mask_threshold)).float()\n",
    "\n",
    "    # Convert to numpy for visualization\n",
    "    img1_np = edges1[0].permute(1,2,0).cpu().numpy()\n",
    "    img2_np = edges2[0].permute(1,2,0).cpu().numpy()\n",
    "    mask_np = mask[0,0].cpu().numpy()\n",
    "\n",
    "    # Plot side by side\n",
    "    fig, axs = plt.subplots(1,3, figsize=(15,5))\n",
    "    axs[0].imshow(img1_np)\n",
    "    axs[0].set_title(\"Image 1\")\n",
    "    axs[0].axis(\"off\")\n",
    "\n",
    "    axs[1].imshow(img2_np)\n",
    "    axs[1].set_title(\"Image 2\")\n",
    "    axs[1].axis(\"off\")\n",
    "\n",
    "    axs[2].imshow(mask_np, cmap=\"gray\")\n",
    "    axs[2].set_title(f\"Mask (low={low_threshold:.2f}, high={high_threshold:.2f}, mask={mask_threshold:.2f})\")\n",
    "    axs[2].axis(\"off\")\n",
    "\n",
    "    plt.show()\n",
    "\n",
    "# --- Create sliders ---\n",
    "interact(\n",
    "    visualize_edges,\n",
    "    low_threshold=FloatSlider(value=0.1, min=0.0, max=1.0, step=0.01),\n",
    "    high_threshold=FloatSlider(value=0.3, min=0.0, max=1.0, step=0.01),\n",
    "    mask_threshold=FloatSlider(value=0.7, min=0.0, max=1.0, step=0.01),\n",
    "    sharpness=FloatSlider(value=1, min=0.0, max=30.0, step=0.01)\n",
    ")"
   ]
  }
 ],
 "metadata": {
  "kernelspec": {
   "display_name": ".venv",
   "language": "python",
   "name": "python3"
  },
  "language_info": {
   "codemirror_mode": {
    "name": "ipython",
    "version": 3
   },
   "file_extension": ".py",
   "mimetype": "text/x-python",
   "name": "python",
   "nbconvert_exporter": "python",
   "pygments_lexer": "ipython3",
   "version": "3.11.9"
  },
  "orig_nbformat": 4
 },
 "nbformat": 4,
 "nbformat_minor": 2
}
